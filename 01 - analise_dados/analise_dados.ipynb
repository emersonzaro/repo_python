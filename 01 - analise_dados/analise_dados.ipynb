{
  "cells": [
    {
      "cell_type": "markdown",
      "id": "d4d52443",
      "metadata": {
        "id": "d4d52443"
      },
      "source": [
        "\n",
        "    - utilizar a biblioteca Pandas - a mais utilizada no mundo para análise de dados\n",
        "    - carregar dados de um arquivo Excel\n",
        "    - fazer análise exploratória nos dados\n",
        "    - gerar estatísticas das colunas quantitativas\n",
        "    - gerar gráficos interativos\n",
        "    - Realizar uma análise de dados sobre uma base de 70.000 linhas de uma rede de lojas de venda de Açaí."
      ]
    },
    {
      "cell_type": "markdown",
      "id": "2d338cfc",
      "metadata": {
        "id": "2d338cfc"
      },
      "source": [
        "<h2 style=\"color: #37709F\">Carregando os dados do arquivo Excel</h2>"
      ]
    },
    {
      "cell_type": "markdown",
      "source": [],
      "metadata": {
        "id": "XlJE4245OzTW"
      },
      "id": "XlJE4245OzTW"
    },
    {
      "cell_type": "markdown",
      "id": "3d7dfdf6",
      "metadata": {
        "id": "3d7dfdf6"
      },
      "source": [
        "<h3 style=\"color: #2F666F\">Importando a biblioteca</h3>\n",
        "\n",
        "A biblioteca **Pandas** já vem pré-instalada no Anaconda, então só precisamos importá-la."
      ]
    },
    {
      "cell_type": "code",
      "execution_count": null,
      "id": "5129e6be",
      "metadata": {
        "id": "5129e6be"
      },
      "outputs": [],
      "source": [
        "import pandas as pd"
      ]
    },
    {
      "cell_type": "code",
      "execution_count": null,
      "id": "374fbd66",
      "metadata": {
        "id": "374fbd66"
      },
      "outputs": [],
      "source": [
        "# lendo os dados (nesse código, o arquivo Excel precisa estar na mesma pasta)\n",
        "dados = pd.read_excel(\"vendas.xlsx\")"
      ]
    },
    {
      "cell_type": "markdown",
      "id": "44330d2f",
      "metadata": {
        "id": "44330d2f"
      },
      "source": [
        "<h2 style=\"color: #37709F\">Análise Exploratória</h2>"
      ]
    },
    {
      "cell_type": "markdown",
      "id": "8592afbc",
      "metadata": {
        "id": "8592afbc"
      },
      "source": [
        "<h3 style=\"color: #2F666F\">Verificando se os dados foram carregados corretamente</h3>\n",
        "\n",
        "Para verificar se os dados foram carregados corretamente, podemos utilizar dois métodos do Pandas:\n",
        "\n",
        "- **head()**: mostra as primeiras linhas do conjunto de dados\n",
        "- **tail()**: mostra as últimas linhas do conjunto de dados"
      ]
    },
    {
      "cell_type": "code",
      "execution_count": 1,
      "id": "ab9a09a7",
      "metadata": {
        "scrolled": true,
        "colab": {
          "base_uri": "https://localhost:8080/",
          "height": 169
        },
        "id": "ab9a09a7",
        "outputId": "fb83d682-1da1-496e-9bb8-6af8ad5ff139"
      },
      "outputs": [
        {
          "output_type": "error",
          "ename": "NameError",
          "evalue": "ignored",
          "traceback": [
            "\u001b[0;31m---------------------------------------------------------------------------\u001b[0m",
            "\u001b[0;31mNameError\u001b[0m                                 Traceback (most recent call last)",
            "\u001b[0;32m<ipython-input-1-98f3c7dd6b42>\u001b[0m in \u001b[0;36m<module>\u001b[0;34m\u001b[0m\n\u001b[0;32m----> 1\u001b[0;31m \u001b[0mdados\u001b[0m\u001b[0;34m.\u001b[0m\u001b[0mhead\u001b[0m\u001b[0;34m(\u001b[0m\u001b[0;34m)\u001b[0m\u001b[0;34m\u001b[0m\u001b[0;34m\u001b[0m\u001b[0m\n\u001b[0m",
            "\u001b[0;31mNameError\u001b[0m: name 'dados' is not defined"
          ]
        }
      ],
      "source": [
        "dados.head()"
      ]
    },
    {
      "cell_type": "code",
      "execution_count": null,
      "id": "f47d7b81",
      "metadata": {
        "id": "f47d7b81",
        "outputId": "f4ac4eed-8528-4db6-eef2-947d199cf601"
      },
      "outputs": [
        {
          "data": {
            "text/html": [
              "<div>\n",
              "<style scoped>\n",
              "    .dataframe tbody tr th:only-of-type {\n",
              "        vertical-align: middle;\n",
              "    }\n",
              "\n",
              "    .dataframe tbody tr th {\n",
              "        vertical-align: top;\n",
              "    }\n",
              "\n",
              "    .dataframe thead th {\n",
              "        text-align: right;\n",
              "    }\n",
              "</style>\n",
              "<table border=\"1\" class=\"dataframe\">\n",
              "  <thead>\n",
              "    <tr style=\"text-align: right;\">\n",
              "      <th></th>\n",
              "      <th>id_pedido</th>\n",
              "      <th>data</th>\n",
              "      <th>loja</th>\n",
              "      <th>cidade</th>\n",
              "      <th>estado</th>\n",
              "      <th>regiao</th>\n",
              "      <th>tamanho</th>\n",
              "      <th>local_consumo</th>\n",
              "      <th>preco</th>\n",
              "      <th>forma_pagamento</th>\n",
              "      <th>ano_mes</th>\n",
              "    </tr>\n",
              "  </thead>\n",
              "  <tbody>\n",
              "    <tr>\n",
              "      <th>69995</th>\n",
              "      <td>PED69996</td>\n",
              "      <td>2020-12-03</td>\n",
              "      <td>Loja 5</td>\n",
              "      <td>São Paulo</td>\n",
              "      <td>São Paulo</td>\n",
              "      <td>Sudeste</td>\n",
              "      <td>300ml</td>\n",
              "      <td>Consumo no local</td>\n",
              "      <td>7</td>\n",
              "      <td>Dinheiro</td>\n",
              "      <td>2020-12</td>\n",
              "    </tr>\n",
              "    <tr>\n",
              "      <th>69996</th>\n",
              "      <td>PED69997</td>\n",
              "      <td>2021-06-01</td>\n",
              "      <td>Loja 6</td>\n",
              "      <td>Florianópolis</td>\n",
              "      <td>Santa Catarina</td>\n",
              "      <td>Sul</td>\n",
              "      <td>700ml</td>\n",
              "      <td>Consumo no local</td>\n",
              "      <td>11</td>\n",
              "      <td>Pix</td>\n",
              "      <td>2021-06</td>\n",
              "    </tr>\n",
              "    <tr>\n",
              "      <th>69997</th>\n",
              "      <td>PED69998</td>\n",
              "      <td>2022-07-14</td>\n",
              "      <td>Loja 6</td>\n",
              "      <td>Florianópolis</td>\n",
              "      <td>Santa Catarina</td>\n",
              "      <td>Sul</td>\n",
              "      <td>700ml</td>\n",
              "      <td>Delivery</td>\n",
              "      <td>11</td>\n",
              "      <td>Dinheiro</td>\n",
              "      <td>2022-07</td>\n",
              "    </tr>\n",
              "    <tr>\n",
              "      <th>69998</th>\n",
              "      <td>PED69999</td>\n",
              "      <td>2021-06-01</td>\n",
              "      <td>Loja 6</td>\n",
              "      <td>Florianópolis</td>\n",
              "      <td>Santa Catarina</td>\n",
              "      <td>Sul</td>\n",
              "      <td>500ml</td>\n",
              "      <td>Consumo no local</td>\n",
              "      <td>9</td>\n",
              "      <td>Pix</td>\n",
              "      <td>2021-06</td>\n",
              "    </tr>\n",
              "    <tr>\n",
              "      <th>69999</th>\n",
              "      <td>PED70000</td>\n",
              "      <td>2022-07-10</td>\n",
              "      <td>Loja 2</td>\n",
              "      <td>Niterói</td>\n",
              "      <td>Rio de Janeiro</td>\n",
              "      <td>Sudeste</td>\n",
              "      <td>700ml</td>\n",
              "      <td>Consumo no local</td>\n",
              "      <td>11</td>\n",
              "      <td>Dinheiro</td>\n",
              "      <td>2022-07</td>\n",
              "    </tr>\n",
              "  </tbody>\n",
              "</table>\n",
              "</div>"
            ],
            "text/plain": [
              "      id_pedido       data    loja         cidade          estado   regiao  \\\n",
              "69995  PED69996 2020-12-03  Loja 5      São Paulo       São Paulo  Sudeste   \n",
              "69996  PED69997 2021-06-01  Loja 6  Florianópolis  Santa Catarina      Sul   \n",
              "69997  PED69998 2022-07-14  Loja 6  Florianópolis  Santa Catarina      Sul   \n",
              "69998  PED69999 2021-06-01  Loja 6  Florianópolis  Santa Catarina      Sul   \n",
              "69999  PED70000 2022-07-10  Loja 2        Niterói  Rio de Janeiro  Sudeste   \n",
              "\n",
              "      tamanho     local_consumo  preco forma_pagamento  ano_mes  \n",
              "69995   300ml  Consumo no local      7        Dinheiro  2020-12  \n",
              "69996   700ml  Consumo no local     11             Pix  2021-06  \n",
              "69997   700ml          Delivery     11        Dinheiro  2022-07  \n",
              "69998   500ml  Consumo no local      9             Pix  2021-06  \n",
              "69999   700ml  Consumo no local     11        Dinheiro  2022-07  "
            ]
          },
          "execution_count": 4,
          "metadata": {},
          "output_type": "execute_result"
        }
      ],
      "source": [
        "dados.tail()"
      ]
    },
    {
      "cell_type": "markdown",
      "id": "ae5c5fe0",
      "metadata": {
        "id": "ae5c5fe0"
      },
      "source": [
        "<h3 style=\"color: #2F666F\">Quantidade de linhas e colunas</h3>\n",
        "\n",
        "- Podemos usar a propriedade **shape** para verificar a quantidade de linhas e colunas. O primeiro valor é a quantidade de **linhas** e o segundo a de **colunas**."
      ]
    },
    {
      "cell_type": "code",
      "execution_count": null,
      "id": "0fc336fe",
      "metadata": {
        "id": "0fc336fe",
        "outputId": "4ac4c25e-4186-487e-9628-5ed244b450b1"
      },
      "outputs": [
        {
          "data": {
            "text/plain": [
              "(70000, 11)"
            ]
          },
          "execution_count": 5,
          "metadata": {},
          "output_type": "execute_result"
        }
      ],
      "source": [
        "dados.shape"
      ]
    },
    {
      "cell_type": "markdown",
      "id": "a9e1e522",
      "metadata": {
        "id": "a9e1e522"
      },
      "source": [
        "<h3 style=\"color: #2F666F\">Informações sobre as colunas</h3>\n",
        "\n",
        "O Pandas tem um método muito poderoso para gerar informações importantes sobre o conjunto de dados:**info()**."
      ]
    },
    {
      "cell_type": "code",
      "execution_count": null,
      "id": "6efd62fb",
      "metadata": {
        "id": "6efd62fb",
        "outputId": "fba6af80-153b-45f7-943c-42919ed272e5"
      },
      "outputs": [
        {
          "name": "stdout",
          "output_type": "stream",
          "text": [
            "<class 'pandas.core.frame.DataFrame'>\n",
            "RangeIndex: 70000 entries, 0 to 69999\n",
            "Data columns (total 11 columns):\n",
            " #   Column           Non-Null Count  Dtype         \n",
            "---  ------           --------------  -----         \n",
            " 0   id_pedido        70000 non-null  object        \n",
            " 1   data             70000 non-null  datetime64[ns]\n",
            " 2   loja             70000 non-null  object        \n",
            " 3   cidade           70000 non-null  object        \n",
            " 4   estado           70000 non-null  object        \n",
            " 5   regiao           70000 non-null  object        \n",
            " 6   tamanho          70000 non-null  object        \n",
            " 7   local_consumo    70000 non-null  object        \n",
            " 8   preco            70000 non-null  int64         \n",
            " 9   forma_pagamento  70000 non-null  object        \n",
            " 10  ano_mes          70000 non-null  object        \n",
            "dtypes: datetime64[ns](1), int64(1), object(9)\n",
            "memory usage: 5.9+ MB\n"
          ]
        }
      ],
      "source": [
        "dados.info()"
      ]
    },
    {
      "cell_type": "markdown",
      "id": "9590e0d7",
      "metadata": {
        "id": "9590e0d7"
      },
      "source": [
        "<h3 style=\"color: #2F666F\">Gerando estatísticas</h3>\n",
        "\n",
        "O método **describe()** gera estatísticas sobre todas as colunas quantitativas."
      ]
    },
    {
      "cell_type": "code",
      "execution_count": null,
      "id": "52f8933a",
      "metadata": {
        "id": "52f8933a",
        "outputId": "570500f4-f9f5-4b00-99c7-cde41227fa29"
      },
      "outputs": [
        {
          "data": {
            "text/html": [
              "<div>\n",
              "<style scoped>\n",
              "    .dataframe tbody tr th:only-of-type {\n",
              "        vertical-align: middle;\n",
              "    }\n",
              "\n",
              "    .dataframe tbody tr th {\n",
              "        vertical-align: top;\n",
              "    }\n",
              "\n",
              "    .dataframe thead th {\n",
              "        text-align: right;\n",
              "    }\n",
              "</style>\n",
              "<table border=\"1\" class=\"dataframe\">\n",
              "  <thead>\n",
              "    <tr style=\"text-align: right;\">\n",
              "      <th></th>\n",
              "      <th>preco</th>\n",
              "    </tr>\n",
              "  </thead>\n",
              "  <tbody>\n",
              "    <tr>\n",
              "      <th>count</th>\n",
              "      <td>70000.000000</td>\n",
              "    </tr>\n",
              "    <tr>\n",
              "      <th>mean</th>\n",
              "      <td>9.009571</td>\n",
              "    </tr>\n",
              "    <tr>\n",
              "      <th>std</th>\n",
              "      <td>2.831874</td>\n",
              "    </tr>\n",
              "    <tr>\n",
              "      <th>min</th>\n",
              "      <td>5.000000</td>\n",
              "    </tr>\n",
              "    <tr>\n",
              "      <th>25%</th>\n",
              "      <td>7.000000</td>\n",
              "    </tr>\n",
              "    <tr>\n",
              "      <th>50%</th>\n",
              "      <td>9.000000</td>\n",
              "    </tr>\n",
              "    <tr>\n",
              "      <th>75%</th>\n",
              "      <td>11.000000</td>\n",
              "    </tr>\n",
              "    <tr>\n",
              "      <th>max</th>\n",
              "      <td>13.000000</td>\n",
              "    </tr>\n",
              "  </tbody>\n",
              "</table>\n",
              "</div>"
            ],
            "text/plain": [
              "              preco\n",
              "count  70000.000000\n",
              "mean       9.009571\n",
              "std        2.831874\n",
              "min        5.000000\n",
              "25%        7.000000\n",
              "50%        9.000000\n",
              "75%       11.000000\n",
              "max       13.000000"
            ]
          },
          "execution_count": 7,
          "metadata": {},
          "output_type": "execute_result"
        }
      ],
      "source": [
        "dados.describe()"
      ]
    },
    {
      "cell_type": "markdown",
      "id": "48c450ed",
      "metadata": {
        "id": "48c450ed"
      },
      "source": [
        "<h3 style=\"color: #2F666F\">Acessando uma coluna</h3>\n",
        "\n",
        "Para acessar uma coluna, podemos utilizar a notação de colchetes, passando o nome da coluna desejada.\n",
        "\n",
        "Caso o nome da coluna não possua espaços em branco de nem caracteres especiais, podemos acessar também com a notação de ponto."
      ]
    },
    {
      "cell_type": "code",
      "execution_count": null,
      "id": "61835224",
      "metadata": {
        "id": "61835224",
        "outputId": "0aaa96f5-5682-4af8-bee2-b8d4bcc79410"
      },
      "outputs": [
        {
          "data": {
            "text/plain": [
              "0        Loja 4\n",
              "1        Loja 2\n",
              "2        Loja 1\n",
              "3        Loja 2\n",
              "4        Loja 4\n",
              "          ...  \n",
              "69995    Loja 5\n",
              "69996    Loja 6\n",
              "69997    Loja 6\n",
              "69998    Loja 6\n",
              "69999    Loja 2\n",
              "Name: loja, Length: 70000, dtype: object"
            ]
          },
          "execution_count": 8,
          "metadata": {},
          "output_type": "execute_result"
        }
      ],
      "source": [
        "dados['loja']"
      ]
    },
    {
      "cell_type": "code",
      "execution_count": null,
      "id": "982ccaba",
      "metadata": {
        "id": "982ccaba",
        "outputId": "5ae58604-015d-4ab3-cf64-96f42e52ee48"
      },
      "outputs": [
        {
          "data": {
            "text/plain": [
              "0        Loja 4\n",
              "1        Loja 2\n",
              "2        Loja 1\n",
              "3        Loja 2\n",
              "4        Loja 4\n",
              "          ...  \n",
              "69995    Loja 5\n",
              "69996    Loja 6\n",
              "69997    Loja 6\n",
              "69998    Loja 6\n",
              "69999    Loja 2\n",
              "Name: loja, Length: 70000, dtype: object"
            ]
          },
          "execution_count": 9,
          "metadata": {},
          "output_type": "execute_result"
        }
      ],
      "source": [
        "dados.loja"
      ]
    },
    {
      "cell_type": "markdown",
      "id": "d55766e4",
      "metadata": {
        "id": "d55766e4"
      },
      "source": [
        "<h3 style=\"color: #2F666F\">Obtendo os únicos de uma coluna</h3>\n",
        "\n",
        "Para obter os valores únicos de uma coluna, utilizamos o método **unique()**."
      ]
    },
    {
      "cell_type": "code",
      "execution_count": null,
      "id": "02894901",
      "metadata": {
        "id": "02894901",
        "outputId": "78563afe-a0c1-4e5d-f143-b1e1cc2321f3"
      },
      "outputs": [
        {
          "data": {
            "text/plain": [
              "array(['Loja 4', 'Loja 2', 'Loja 1', 'Loja 6', 'Loja 3', 'Loja 5'],\n",
              "      dtype=object)"
            ]
          },
          "execution_count": 10,
          "metadata": {},
          "output_type": "execute_result"
        }
      ],
      "source": [
        "dados['loja'].unique()"
      ]
    },
    {
      "cell_type": "markdown",
      "id": "a24059d5",
      "metadata": {
        "id": "a24059d5"
      },
      "source": [
        "<h3 style=\"color: #2F666F\">Contagem de valores</h3>\n",
        "\n",
        "Para fazer a contagem de valores de uma coluna, podemos utilizar o método **value_counts()**.\n",
        "\n",
        "Podemos obter também o valor relativo, utilizando o parâmetro **normalize=True**."
      ]
    },
    {
      "cell_type": "code",
      "execution_count": null,
      "id": "ba0b9f34",
      "metadata": {
        "id": "ba0b9f34",
        "outputId": "0f088549-95c7-4b45-86b2-fcc39486dc10"
      },
      "outputs": [
        {
          "data": {
            "text/plain": [
              "Loja 6    16648\n",
              "Loja 3    12367\n",
              "Loja 1    12344\n",
              "Loja 5    12177\n",
              "Loja 2     8318\n",
              "Loja 4     8146\n",
              "Name: loja, dtype: int64"
            ]
          },
          "execution_count": 11,
          "metadata": {},
          "output_type": "execute_result"
        }
      ],
      "source": [
        "dados['loja'].value_counts()"
      ]
    },
    {
      "cell_type": "code",
      "execution_count": null,
      "id": "ddbdab01",
      "metadata": {
        "id": "ddbdab01",
        "outputId": "2f11b6c2-e288-4b80-e0bf-c5b816b20ca4"
      },
      "outputs": [
        {
          "data": {
            "text/plain": [
              "Loja 6    0.237829\n",
              "Loja 3    0.176671\n",
              "Loja 1    0.176343\n",
              "Loja 5    0.173957\n",
              "Loja 2    0.118829\n",
              "Loja 4    0.116371\n",
              "Name: loja, dtype: float64"
            ]
          },
          "execution_count": 12,
          "metadata": {},
          "output_type": "execute_result"
        }
      ],
      "source": [
        "dados['loja'].value_counts(normalize=True)"
      ]
    },
    {
      "cell_type": "markdown",
      "id": "1a209212",
      "metadata": {
        "id": "1a209212"
      },
      "source": [
        "<h3 style=\"color: #2F666F\">Agrupando dados</h3>\n",
        "\n",
        "O método **groupby()** realiza o agrupamento de dados por determinada coluna.\n",
        "\n",
        "Sempre que utilizarmos o **groupby()**, precisamos definir o **método de agregação** que será usado.\n",
        "\n"
      ]
    },
    {
      "cell_type": "code",
      "execution_count": null,
      "id": "ad07de66",
      "metadata": {
        "id": "ad07de66",
        "outputId": "26807f0a-83c8-4beb-e5fb-1852bbba4621"
      },
      "outputs": [
        {
          "data": {
            "text/html": [
              "<div>\n",
              "<style scoped>\n",
              "    .dataframe tbody tr th:only-of-type {\n",
              "        vertical-align: middle;\n",
              "    }\n",
              "\n",
              "    .dataframe tbody tr th {\n",
              "        vertical-align: top;\n",
              "    }\n",
              "\n",
              "    .dataframe thead th {\n",
              "        text-align: right;\n",
              "    }\n",
              "</style>\n",
              "<table border=\"1\" class=\"dataframe\">\n",
              "  <thead>\n",
              "    <tr style=\"text-align: right;\">\n",
              "      <th></th>\n",
              "      <th>preco</th>\n",
              "    </tr>\n",
              "    <tr>\n",
              "      <th>loja</th>\n",
              "      <th></th>\n",
              "    </tr>\n",
              "  </thead>\n",
              "  <tbody>\n",
              "    <tr>\n",
              "      <th>Loja 1</th>\n",
              "      <td>111042</td>\n",
              "    </tr>\n",
              "    <tr>\n",
              "      <th>Loja 2</th>\n",
              "      <td>74700</td>\n",
              "    </tr>\n",
              "    <tr>\n",
              "      <th>Loja 3</th>\n",
              "      <td>111709</td>\n",
              "    </tr>\n",
              "    <tr>\n",
              "      <th>Loja 4</th>\n",
              "      <td>73598</td>\n",
              "    </tr>\n",
              "    <tr>\n",
              "      <th>Loja 5</th>\n",
              "      <td>109393</td>\n",
              "    </tr>\n",
              "    <tr>\n",
              "      <th>Loja 6</th>\n",
              "      <td>150228</td>\n",
              "    </tr>\n",
              "  </tbody>\n",
              "</table>\n",
              "</div>"
            ],
            "text/plain": [
              "         preco\n",
              "loja          \n",
              "Loja 1  111042\n",
              "Loja 2   74700\n",
              "Loja 3  111709\n",
              "Loja 4   73598\n",
              "Loja 5  109393\n",
              "Loja 6  150228"
            ]
          },
          "execution_count": 13,
          "metadata": {},
          "output_type": "execute_result"
        }
      ],
      "source": [
        "# faturamento por loja\n",
        "dados.groupby('loja').sum()"
      ]
    },
    {
      "cell_type": "code",
      "execution_count": null,
      "id": "e2df9342",
      "metadata": {
        "id": "e2df9342",
        "outputId": "e2c14bdf-882e-4dd1-fb9b-93a985db18e7"
      },
      "outputs": [
        {
          "data": {
            "text/html": [
              "<div>\n",
              "<style scoped>\n",
              "    .dataframe tbody tr th:only-of-type {\n",
              "        vertical-align: middle;\n",
              "    }\n",
              "\n",
              "    .dataframe tbody tr th {\n",
              "        vertical-align: top;\n",
              "    }\n",
              "\n",
              "    .dataframe thead th {\n",
              "        text-align: right;\n",
              "    }\n",
              "</style>\n",
              "<table border=\"1\" class=\"dataframe\">\n",
              "  <thead>\n",
              "    <tr style=\"text-align: right;\">\n",
              "      <th></th>\n",
              "      <th>preco</th>\n",
              "    </tr>\n",
              "    <tr>\n",
              "      <th>loja</th>\n",
              "      <th></th>\n",
              "    </tr>\n",
              "  </thead>\n",
              "  <tbody>\n",
              "    <tr>\n",
              "      <th>Loja 1</th>\n",
              "      <td>8.995625</td>\n",
              "    </tr>\n",
              "    <tr>\n",
              "      <th>Loja 2</th>\n",
              "      <td>8.980524</td>\n",
              "    </tr>\n",
              "    <tr>\n",
              "      <th>Loja 3</th>\n",
              "      <td>9.032829</td>\n",
              "    </tr>\n",
              "    <tr>\n",
              "      <th>Loja 4</th>\n",
              "      <td>9.034864</td>\n",
              "    </tr>\n",
              "    <tr>\n",
              "      <th>Loja 5</th>\n",
              "      <td>8.983576</td>\n",
              "    </tr>\n",
              "    <tr>\n",
              "      <th>Loja 6</th>\n",
              "      <td>9.023787</td>\n",
              "    </tr>\n",
              "  </tbody>\n",
              "</table>\n",
              "</div>"
            ],
            "text/plain": [
              "           preco\n",
              "loja            \n",
              "Loja 1  8.995625\n",
              "Loja 2  8.980524\n",
              "Loja 3  9.032829\n",
              "Loja 4  9.034864\n",
              "Loja 5  8.983576\n",
              "Loja 6  9.023787"
            ]
          },
          "execution_count": 14,
          "metadata": {},
          "output_type": "execute_result"
        }
      ],
      "source": [
        "# média de faturament por loja (ticket médio)\n",
        "dados.groupby('loja').mean()"
      ]
    },
    {
      "cell_type": "markdown",
      "id": "4a51847d",
      "metadata": {
        "id": "4a51847d"
      },
      "source": [
        "<h2 style=\"color: #37709F\">Gráficos</h2>"
      ]
    },
    {
      "cell_type": "markdown",
      "id": "bd2fa6ff",
      "metadata": {
        "id": "bd2fa6ff"
      },
      "source": [
        "<h3 style=\"color: #2F666F\">Instalando e importando a biblioteca de gráficos</h3>\n",
        "\n",
        "Para gerar os gráficos vamos utilizar a biblioteca **Plotly Express**."
      ]
    },
    {
      "cell_type": "code",
      "execution_count": null,
      "id": "b5c57409",
      "metadata": {
        "id": "b5c57409"
      },
      "outputs": [],
      "source": [
        "!pip install plotly_express"
      ]
    },
    {
      "cell_type": "code",
      "execution_count": null,
      "id": "2cc2bdc6",
      "metadata": {
        "id": "2cc2bdc6"
      },
      "outputs": [],
      "source": [
        "import plotly_express as px"
      ]
    },
    {
      "cell_type": "markdown",
      "id": "fd4aafb3",
      "metadata": {
        "id": "fd4aafb3"
      },
      "source": [
        "<h3 style=\"color: #2F666F\">Contagem de pedidos por loja</h3>"
      ]
    },
    {
      "cell_type": "code",
      "execution_count": null,
      "id": "437c56a0",
      "metadata": {
        "id": "437c56a0"
      },
      "outputs": [],
      "source": [
        "px.histogram(dados, x=\"loja\", color=\"regiao\", text_auto=True)"
      ]
    },
    {
      "cell_type": "markdown",
      "id": "65ab0627",
      "metadata": {
        "id": "65ab0627"
      },
      "source": [
        "<h3 style=\"color: #2F666F\">Criando múltiplos gráficos e gerando seus respectivos arquivos HTML</h3>"
      ]
    },
    {
      "cell_type": "code",
      "execution_count": null,
      "id": "20616610",
      "metadata": {
        "id": "20616610"
      },
      "outputs": [],
      "source": [
        "colunas = ['loja', 'cidade', 'estado', 'tamanho', 'local_consumo']\n",
        "\n",
        "for coluna in colunas:\n",
        "    fig = px.histogram(dados, x=coluna, y='preco', color='forma_pagamento', text_auto=True)\n",
        "    fig.write_html(f\"faturamento por {coluna}.html\")\n",
        "    fig.show()"
      ]
    },
    {
      "cell_type": "markdown",
      "id": "214340b6",
      "metadata": {
        "id": "214340b6"
      },
      "source": [
        "<h3 style=\"color: #2F666F\">Gráfico animado</h3>"
      ]
    },
    {
      "cell_type": "code",
      "execution_count": null,
      "id": "dfcf3819",
      "metadata": {
        "id": "dfcf3819"
      },
      "outputs": [],
      "source": [
        "# agrupando os dados\n",
        "agrupado = dados.groupby(['loja', 'ano_mes']).sum()\n",
        "\n",
        "#resetando os índices\n",
        "agrupado.reset_index(inplace=True)\n",
        "\n",
        "# criando uma coluna com o valor acumulado\n",
        "agrupado['acumulado'] = agrupado.groupby('loja').cumsum()"
      ]
    },
    {
      "cell_type": "code",
      "execution_count": null,
      "id": "4548bd5c",
      "metadata": {
        "scrolled": true,
        "id": "4548bd5c"
      },
      "outputs": [],
      "source": [
        "# gerando o gráfico\n",
        "fig = px.bar(agrupado, \n",
        "             x='acumulado', \n",
        "             y=\"loja\", \n",
        "             color='loja',  \n",
        "             text_auto=True,\n",
        "             range_x=[0,160000],\n",
        "             animation_frame='ano_mes')\n",
        "fig.show()"
      ]
    },
    {
      "cell_type": "code",
      "execution_count": null,
      "id": "1db446cb",
      "metadata": {
        "id": "1db446cb"
      },
      "outputs": [],
      "source": [
        "# exportando o gráfico para um arquivo\n",
        "fig.write_html('grafico_animado.html')"
      ]
    }
  ],
  "metadata": {
    "kernelspec": {
      "display_name": "Python 3 (ipykernel)",
      "language": "python",
      "name": "python3"
    },
    "language_info": {
      "codemirror_mode": {
        "name": "ipython",
        "version": 3
      },
      "file_extension": ".py",
      "mimetype": "text/x-python",
      "name": "python",
      "nbconvert_exporter": "python",
      "pygments_lexer": "ipython3",
      "version": "3.9.12"
    },
    "colab": {
      "provenance": []
    }
  },
  "nbformat": 4,
  "nbformat_minor": 5
}